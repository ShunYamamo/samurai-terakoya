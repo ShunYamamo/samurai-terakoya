{
  "nbformat": 4,
  "nbformat_minor": 0,
  "metadata": {
    "colab": {
      "provenance": []
    },
    "kernelspec": {
      "name": "python3",
      "display_name": "Python 3"
    },
    "language_info": {
      "name": "python"
    }
  },
  "cells": [
    {
      "cell_type": "code",
      "execution_count": null,
      "metadata": {
        "id": "DPXD3cTi17cF"
      },
      "outputs": [],
      "source": []
    },
    {
      "cell_type": "code",
      "source": [
        "class Human:\n",
        "    def __init__(self, name, age):\n",
        "        self.name = name\n",
        "        self.age = age\n",
        "\n",
        "    def check_adult(self):\n",
        "        if self.age >= 20:\n",
        "            print(f\"{self.name} is an adult.\")\n",
        "        else:\n",
        "            print(f\"{self.name} is not an adult.\")\n",
        "\n",
        "# Humanクラスのインスタンスを生成し、リストに追加\n",
        "humans = [\n",
        "    Human(\"Alice\", 25),\n",
        "    Human(\"Bob\", 18),\n",
        "    Human(\"Charlie\", 30)\n",
        "]\n",
        "\n",
        "# check_adultメソッドを呼び出して結果を出力\n",
        "for human in humans:\n",
        "    human.check_adult()"
      ],
      "metadata": {
        "id": "MMQvB54WBpNv",
        "colab": {
          "base_uri": "https://localhost:8080/"
        },
        "outputId": "d06f4fad-2a27-48f6-ad66-15ba249f847c"
      },
      "execution_count": 1,
      "outputs": [
        {
          "output_type": "stream",
          "name": "stdout",
          "text": [
            "Alice is an adult.\n",
            "Bob is not an adult.\n",
            "Charlie is an adult.\n"
          ]
        }
      ]
    }
  ]
}