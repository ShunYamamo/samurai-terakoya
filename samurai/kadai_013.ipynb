{
  "nbformat": 4,
  "nbformat_minor": 0,
  "metadata": {
    "colab": {
      "provenance": []
    },
    "kernelspec": {
      "name": "python3",
      "display_name": "Python 3"
    },
    "language_info": {
      "name": "python"
    }
  },
  "cells": [
    {
      "cell_type": "code",
      "execution_count": 1,
      "metadata": {
        "colab": {
          "base_uri": "https://localhost:8080/"
        },
        "id": "rdAlaAemscHv",
        "outputId": "33922ad1-4f54-4b34-d704-18ccf7ab7526"
      },
      "outputs": [
        {
          "output_type": "stream",
          "name": "stdout",
          "text": [
            "1320.0円\n"
          ]
        }
      ],
      "source": [
        "def add_two_arguments(price, tax):\n",
        "    total = price + price * tax\n",
        "\n",
        "    print(f\"{total}円\")\n",
        "\n",
        "add_two_arguments(1200, 0.1)"
      ]
    }
  ]
}